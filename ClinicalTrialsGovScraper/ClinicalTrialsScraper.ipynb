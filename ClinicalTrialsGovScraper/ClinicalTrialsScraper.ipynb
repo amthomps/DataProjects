{
 "cells": [
  {
   "cell_type": "markdown",
   "metadata": {},
   "source": [
    "1. Installing Packages"
   ]
  },
  {
   "cell_type": "code",
   "execution_count": 43,
   "metadata": {},
   "outputs": [
    {
     "name": "stdout",
     "output_type": "stream",
     "text": [
      "Vitamin D and Residual Beta-Cell Function in Type 1 Diabetes (PCR)\n",
      "['Type 1 Diabetes', 'Drug: Ergocalciferol\\nOther: Placebo', 'Phase 2\\nPhase 3']\n"
     ]
    }
   ],
   "source": [
    "#install packages\n",
    "import requests\n",
    "from bs4 import BeautifulSoup\n",
    "\n",
    "# Collect a single page from clinical trials.gov\n",
    "page = requests.get('https://clinicaltrials.gov/ct2/show/NCT03046927?cond=Type+1+Diabetes&rank=4')\n",
    "soup = BeautifulSoup(page.text, 'html.parser')\n",
    "\n",
    "# print the study title\n",
    "studyTitle = soup.find(\"h1\")\n",
    "TitleText = studyTitle.text.strip()\n",
    "print(TitleText)\n",
    "\n",
    "# print the study design info as a list\n",
    "studyDesign = soup.find(\"table\", {\"class\" : \"data_table\"}).find_all('td') #this gets the table describing the condition or disease, intervention/treatment, and phase\n",
    "DesignText = [ t.text.strip() for t in studyDesign ]\n",
    "print(DesignText)\n"
   ]
  },
  {
   "cell_type": "code",
   "execution_count": 44,
   "metadata": {},
   "outputs": [
    {
     "name": "stdout",
     "output_type": "stream",
     "text": [
      "{'Title': 'Vitamin D and Residual Beta-Cell Function in Type 1 Diabetes (PCR)', 'ConditionDisease': 'Type 1 Diabetes', 'InterventionTreatment': 'Drug: Ergocalciferol\\nOther: Placebo', 'Phase': 'Phase 2\\nPhase 3'}\n"
     ]
    }
   ],
   "source": [
    "# make a dictionary of the data from one page\n",
    "my_dict = {\"Title\" : TitleText, \n",
    "           \"ConditionDisease\" : DesignText[0], \n",
    "           \"InterventionTreatment\" : DesignText[1], \n",
    "           \"Phase\" : DesignText[2]}\n",
    "print(my_dict)"
   ]
  },
  {
   "cell_type": "code",
   "execution_count": null,
   "metadata": {
    "collapsed": true
   },
   "outputs": [],
   "source": [
    "# getting data from xml files"
   ]
  }
 ],
 "metadata": {
  "kernelspec": {
   "display_name": "Python 3",
   "language": "python",
   "name": "python3"
  },
  "language_info": {
   "codemirror_mode": {
    "name": "ipython",
    "version": 3
   },
   "file_extension": ".py",
   "mimetype": "text/x-python",
   "name": "python",
   "nbconvert_exporter": "python",
   "pygments_lexer": "ipython3",
   "version": "3.6.3"
  }
 },
 "nbformat": 4,
 "nbformat_minor": 2
}
